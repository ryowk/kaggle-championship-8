{
 "cells": [
  {
   "cell_type": "code",
   "execution_count": 6,
   "metadata": {},
   "outputs": [],
   "source": [
    "import numpy as np\n",
    "import pandas as pd\n",
    "import xgboost as xgb\n",
    "from sklearn.metrics import f1_score\n",
    "from sklearn.model_selection import StratifiedKFold"
   ]
  },
  {
   "cell_type": "code",
   "execution_count": 7,
   "metadata": {},
   "outputs": [],
   "source": [
    "books = pd.read_csv('input/transformed/books.csv', usecols=['book_idx', 'title_idx', 'author_idx', 'publisher_idx'])\n",
    "users = pd.read_csv('input/transformed/users.csv', usecols=['user_idx', 'age', 'city_idx', 'province_idx', 'country_idx'])\n",
    "train_ratings = pd.read_csv('input/transformed/train_ratings.csv', usecols=['id', 'user_idx', 'book_idx', 'rating'])\n",
    "test_ratings = pd.read_csv('input/transformed/test_ratings.csv', usecols=['id', 'user_idx', 'book_idx'])"
   ]
  },
  {
   "cell_type": "code",
   "execution_count": 8,
   "metadata": {},
   "outputs": [],
   "source": [
    "for c in ['city_idx', 'province_idx', 'country_idx']:\n",
    "    users[c] = users[c].fillna(-1).astype(int)\n",
    "for c in ['author_idx', 'publisher_idx']:\n",
    "    books[c] = books[c].fillna(-1).astype(int)"
   ]
  },
  {
   "cell_type": "code",
   "execution_count": 9,
   "metadata": {},
   "outputs": [],
   "source": [
    "train = train_ratings.merge(users, on=['user_idx']).merge(books, on=['book_idx']).sort_values(by='id').drop('id', axis=1)\n",
    "train['rating'] -= 1"
   ]
  },
  {
   "cell_type": "code",
   "execution_count": 11,
   "metadata": {},
   "outputs": [
    {
     "ename": "CUDARuntimeError",
     "evalue": "cudaErrorUnknown: unknown error",
     "output_type": "error",
     "traceback": [
      "\u001b[0;31m---------------------------------------------------------------------------\u001b[0m",
      "\u001b[0;31mCUDARuntimeError\u001b[0m                          Traceback (most recent call last)",
      "\u001b[1;32m/home/wakatsuki/kaggle/kaggle-championship-8/xgboost_multiclass.ipynb Cell 5'\u001b[0m in \u001b[0;36m<cell line: 8>\u001b[0;34m()\u001b[0m\n\u001b[1;32m      <a href='vscode-notebook-cell:/home/wakatsuki/kaggle/kaggle-championship-8/xgboost_multiclass.ipynb#ch0000004?line=8'>9</a>\u001b[0m X_train, X_test \u001b[39m=\u001b[39m X\u001b[39m.\u001b[39miloc[train_index], X\u001b[39m.\u001b[39miloc[test_index]\n\u001b[1;32m     <a href='vscode-notebook-cell:/home/wakatsuki/kaggle/kaggle-championship-8/xgboost_multiclass.ipynb#ch0000004?line=9'>10</a>\u001b[0m y_train, y_test \u001b[39m=\u001b[39m y\u001b[39m.\u001b[39miloc[train_index], y\u001b[39m.\u001b[39miloc[test_index]\n\u001b[0;32m---> <a href='vscode-notebook-cell:/home/wakatsuki/kaggle/kaggle-championship-8/xgboost_multiclass.ipynb#ch0000004?line=11'>12</a>\u001b[0m dtrain \u001b[39m=\u001b[39m xgb\u001b[39m.\u001b[39;49mDMatrix(X_train, label\u001b[39m=\u001b[39;49my_train)\n\u001b[1;32m     <a href='vscode-notebook-cell:/home/wakatsuki/kaggle/kaggle-championship-8/xgboost_multiclass.ipynb#ch0000004?line=12'>13</a>\u001b[0m dtest \u001b[39m=\u001b[39m xgb\u001b[39m.\u001b[39mDMatrix(X_test, label\u001b[39m=\u001b[39my_test)\n\u001b[1;32m     <a href='vscode-notebook-cell:/home/wakatsuki/kaggle/kaggle-championship-8/xgboost_multiclass.ipynb#ch0000004?line=14'>15</a>\u001b[0m xgb_params \u001b[39m=\u001b[39m {\n\u001b[1;32m     <a href='vscode-notebook-cell:/home/wakatsuki/kaggle/kaggle-championship-8/xgboost_multiclass.ipynb#ch0000004?line=15'>16</a>\u001b[0m     \u001b[39m'\u001b[39m\u001b[39mobjective\u001b[39m\u001b[39m'\u001b[39m: \u001b[39m'\u001b[39m\u001b[39mmulti:softmax\u001b[39m\u001b[39m'\u001b[39m,\n\u001b[1;32m     <a href='vscode-notebook-cell:/home/wakatsuki/kaggle/kaggle-championship-8/xgboost_multiclass.ipynb#ch0000004?line=16'>17</a>\u001b[0m     \u001b[39m'\u001b[39m\u001b[39mnum_class\u001b[39m\u001b[39m'\u001b[39m: \u001b[39m10\u001b[39m,\n\u001b[1;32m     <a href='vscode-notebook-cell:/home/wakatsuki/kaggle/kaggle-championship-8/xgboost_multiclass.ipynb#ch0000004?line=17'>18</a>\u001b[0m     \u001b[39m'\u001b[39m\u001b[39meval_metric\u001b[39m\u001b[39m'\u001b[39m: \u001b[39m'\u001b[39m\u001b[39mmlogloss\u001b[39m\u001b[39m'\u001b[39m,\n\u001b[1;32m     <a href='vscode-notebook-cell:/home/wakatsuki/kaggle/kaggle-championship-8/xgboost_multiclass.ipynb#ch0000004?line=18'>19</a>\u001b[0m     \u001b[39m'\u001b[39m\u001b[39mgpu_id\u001b[39m\u001b[39m'\u001b[39m: \u001b[39mNone\u001b[39;00m,\n\u001b[1;32m     <a href='vscode-notebook-cell:/home/wakatsuki/kaggle/kaggle-championship-8/xgboost_multiclass.ipynb#ch0000004?line=19'>20</a>\u001b[0m }\n",
      "File \u001b[0;32m~/.pyenv/versions/miniforge3-4.10.3-10/lib/python3.9/site-packages/xgboost/core.py:506\u001b[0m, in \u001b[0;36m_deprecate_positional_args.<locals>.inner_f\u001b[0;34m(*args, **kwargs)\u001b[0m\n\u001b[1;32m    <a href='file:///home/wakatsuki/.pyenv/versions/miniforge3-4.10.3-10/lib/python3.9/site-packages/xgboost/core.py?line=503'>504</a>\u001b[0m \u001b[39mfor\u001b[39;00m k, arg \u001b[39min\u001b[39;00m \u001b[39mzip\u001b[39m(sig\u001b[39m.\u001b[39mparameters, args):\n\u001b[1;32m    <a href='file:///home/wakatsuki/.pyenv/versions/miniforge3-4.10.3-10/lib/python3.9/site-packages/xgboost/core.py?line=504'>505</a>\u001b[0m     kwargs[k] \u001b[39m=\u001b[39m arg\n\u001b[0;32m--> <a href='file:///home/wakatsuki/.pyenv/versions/miniforge3-4.10.3-10/lib/python3.9/site-packages/xgboost/core.py?line=505'>506</a>\u001b[0m \u001b[39mreturn\u001b[39;00m f(\u001b[39m*\u001b[39;49m\u001b[39m*\u001b[39;49mkwargs)\n",
      "File \u001b[0;32m~/.pyenv/versions/miniforge3-4.10.3-10/lib/python3.9/site-packages/xgboost/core.py:616\u001b[0m, in \u001b[0;36mDMatrix.__init__\u001b[0;34m(self, data, label, weight, base_margin, missing, silent, feature_names, feature_types, nthread, group, qid, label_lower_bound, label_upper_bound, feature_weights, enable_categorical)\u001b[0m\n\u001b[1;32m    <a href='file:///home/wakatsuki/.pyenv/versions/miniforge3-4.10.3-10/lib/python3.9/site-packages/xgboost/core.py?line=612'>613</a>\u001b[0m     \u001b[39massert\u001b[39;00m \u001b[39mself\u001b[39m\u001b[39m.\u001b[39mhandle \u001b[39mis\u001b[39;00m \u001b[39mnot\u001b[39;00m \u001b[39mNone\u001b[39;00m\n\u001b[1;32m    <a href='file:///home/wakatsuki/.pyenv/versions/miniforge3-4.10.3-10/lib/python3.9/site-packages/xgboost/core.py?line=613'>614</a>\u001b[0m     \u001b[39mreturn\u001b[39;00m\n\u001b[0;32m--> <a href='file:///home/wakatsuki/.pyenv/versions/miniforge3-4.10.3-10/lib/python3.9/site-packages/xgboost/core.py?line=615'>616</a>\u001b[0m handle, feature_names, feature_types \u001b[39m=\u001b[39m dispatch_data_backend(\n\u001b[1;32m    <a href='file:///home/wakatsuki/.pyenv/versions/miniforge3-4.10.3-10/lib/python3.9/site-packages/xgboost/core.py?line=616'>617</a>\u001b[0m     data,\n\u001b[1;32m    <a href='file:///home/wakatsuki/.pyenv/versions/miniforge3-4.10.3-10/lib/python3.9/site-packages/xgboost/core.py?line=617'>618</a>\u001b[0m     missing\u001b[39m=\u001b[39;49m\u001b[39mself\u001b[39;49m\u001b[39m.\u001b[39;49mmissing,\n\u001b[1;32m    <a href='file:///home/wakatsuki/.pyenv/versions/miniforge3-4.10.3-10/lib/python3.9/site-packages/xgboost/core.py?line=618'>619</a>\u001b[0m     threads\u001b[39m=\u001b[39;49m\u001b[39mself\u001b[39;49m\u001b[39m.\u001b[39;49mnthread,\n\u001b[1;32m    <a href='file:///home/wakatsuki/.pyenv/versions/miniforge3-4.10.3-10/lib/python3.9/site-packages/xgboost/core.py?line=619'>620</a>\u001b[0m     feature_names\u001b[39m=\u001b[39;49mfeature_names,\n\u001b[1;32m    <a href='file:///home/wakatsuki/.pyenv/versions/miniforge3-4.10.3-10/lib/python3.9/site-packages/xgboost/core.py?line=620'>621</a>\u001b[0m     feature_types\u001b[39m=\u001b[39;49mfeature_types,\n\u001b[1;32m    <a href='file:///home/wakatsuki/.pyenv/versions/miniforge3-4.10.3-10/lib/python3.9/site-packages/xgboost/core.py?line=621'>622</a>\u001b[0m     enable_categorical\u001b[39m=\u001b[39;49menable_categorical,\n\u001b[1;32m    <a href='file:///home/wakatsuki/.pyenv/versions/miniforge3-4.10.3-10/lib/python3.9/site-packages/xgboost/core.py?line=622'>623</a>\u001b[0m )\n\u001b[1;32m    <a href='file:///home/wakatsuki/.pyenv/versions/miniforge3-4.10.3-10/lib/python3.9/site-packages/xgboost/core.py?line=623'>624</a>\u001b[0m \u001b[39massert\u001b[39;00m handle \u001b[39mis\u001b[39;00m \u001b[39mnot\u001b[39;00m \u001b[39mNone\u001b[39;00m\n\u001b[1;32m    <a href='file:///home/wakatsuki/.pyenv/versions/miniforge3-4.10.3-10/lib/python3.9/site-packages/xgboost/core.py?line=624'>625</a>\u001b[0m \u001b[39mself\u001b[39m\u001b[39m.\u001b[39mhandle \u001b[39m=\u001b[39m handle\n",
      "File \u001b[0;32m~/.pyenv/versions/miniforge3-4.10.3-10/lib/python3.9/site-packages/xgboost/data.py:752\u001b[0m, in \u001b[0;36mdispatch_data_backend\u001b[0;34m(data, missing, threads, feature_names, feature_types, enable_categorical)\u001b[0m\n\u001b[1;32m    <a href='file:///home/wakatsuki/.pyenv/versions/miniforge3-4.10.3-10/lib/python3.9/site-packages/xgboost/data.py?line=742'>743</a>\u001b[0m \u001b[39mdef\u001b[39;00m \u001b[39mdispatch_data_backend\u001b[39m(\n\u001b[1;32m    <a href='file:///home/wakatsuki/.pyenv/versions/miniforge3-4.10.3-10/lib/python3.9/site-packages/xgboost/data.py?line=743'>744</a>\u001b[0m     data,\n\u001b[1;32m    <a href='file:///home/wakatsuki/.pyenv/versions/miniforge3-4.10.3-10/lib/python3.9/site-packages/xgboost/data.py?line=744'>745</a>\u001b[0m     missing,\n\u001b[0;32m   (...)\u001b[0m\n\u001b[1;32m    <a href='file:///home/wakatsuki/.pyenv/versions/miniforge3-4.10.3-10/lib/python3.9/site-packages/xgboost/data.py?line=748'>749</a>\u001b[0m     enable_categorical: \u001b[39mbool\u001b[39m \u001b[39m=\u001b[39m \u001b[39mFalse\u001b[39;00m,\n\u001b[1;32m    <a href='file:///home/wakatsuki/.pyenv/versions/miniforge3-4.10.3-10/lib/python3.9/site-packages/xgboost/data.py?line=749'>750</a>\u001b[0m ):\n\u001b[1;32m    <a href='file:///home/wakatsuki/.pyenv/versions/miniforge3-4.10.3-10/lib/python3.9/site-packages/xgboost/data.py?line=750'>751</a>\u001b[0m     \u001b[39m'''Dispatch data for DMatrix.'''\u001b[39;00m\n\u001b[0;32m--> <a href='file:///home/wakatsuki/.pyenv/versions/miniforge3-4.10.3-10/lib/python3.9/site-packages/xgboost/data.py?line=751'>752</a>\u001b[0m     \u001b[39mif\u001b[39;00m \u001b[39mnot\u001b[39;00m _is_cudf_ser(data) \u001b[39mand\u001b[39;00m \u001b[39mnot\u001b[39;00m _is_pandas_series(data):\n\u001b[1;32m    <a href='file:///home/wakatsuki/.pyenv/versions/miniforge3-4.10.3-10/lib/python3.9/site-packages/xgboost/data.py?line=752'>753</a>\u001b[0m         _check_data_shape(data)\n\u001b[1;32m    <a href='file:///home/wakatsuki/.pyenv/versions/miniforge3-4.10.3-10/lib/python3.9/site-packages/xgboost/data.py?line=753'>754</a>\u001b[0m     \u001b[39mif\u001b[39;00m _is_scipy_csr(data):\n",
      "File \u001b[0;32m~/.pyenv/versions/miniforge3-4.10.3-10/lib/python3.9/site-packages/xgboost/data.py:585\u001b[0m, in \u001b[0;36m_is_cudf_ser\u001b[0;34m(data)\u001b[0m\n\u001b[1;32m    <a href='file:///home/wakatsuki/.pyenv/versions/miniforge3-4.10.3-10/lib/python3.9/site-packages/xgboost/data.py?line=582'>583</a>\u001b[0m \u001b[39mdef\u001b[39;00m \u001b[39m_is_cudf_ser\u001b[39m(data):\n\u001b[1;32m    <a href='file:///home/wakatsuki/.pyenv/versions/miniforge3-4.10.3-10/lib/python3.9/site-packages/xgboost/data.py?line=583'>584</a>\u001b[0m     \u001b[39mtry\u001b[39;00m:\n\u001b[0;32m--> <a href='file:///home/wakatsuki/.pyenv/versions/miniforge3-4.10.3-10/lib/python3.9/site-packages/xgboost/data.py?line=584'>585</a>\u001b[0m         \u001b[39mimport\u001b[39;00m \u001b[39mcudf\u001b[39;00m\n\u001b[1;32m    <a href='file:///home/wakatsuki/.pyenv/versions/miniforge3-4.10.3-10/lib/python3.9/site-packages/xgboost/data.py?line=585'>586</a>\u001b[0m     \u001b[39mexcept\u001b[39;00m \u001b[39mImportError\u001b[39;00m:\n\u001b[1;32m    <a href='file:///home/wakatsuki/.pyenv/versions/miniforge3-4.10.3-10/lib/python3.9/site-packages/xgboost/data.py?line=586'>587</a>\u001b[0m         \u001b[39mreturn\u001b[39;00m \u001b[39mFalse\u001b[39;00m\n",
      "File \u001b[0;32m~/.pyenv/versions/miniforge3-4.10.3-10/lib/python3.9/site-packages/cudf/__init__.py:5\u001b[0m, in \u001b[0;36m<module>\u001b[0;34m\u001b[0m\n\u001b[1;32m      <a href='file:///home/wakatsuki/.pyenv/versions/miniforge3-4.10.3-10/lib/python3.9/site-packages/cudf/__init__.py?line=0'>1</a>\u001b[0m \u001b[39m# Copyright (c) 2018-2022, NVIDIA CORPORATION.\u001b[39;00m\n\u001b[1;32m      <a href='file:///home/wakatsuki/.pyenv/versions/miniforge3-4.10.3-10/lib/python3.9/site-packages/cudf/__init__.py?line=2'>3</a>\u001b[0m \u001b[39mfrom\u001b[39;00m \u001b[39mcudf\u001b[39;00m\u001b[39m.\u001b[39;00m\u001b[39mutils\u001b[39;00m\u001b[39m.\u001b[39;00m\u001b[39mgpu_utils\u001b[39;00m \u001b[39mimport\u001b[39;00m validate_setup\n\u001b[0;32m----> <a href='file:///home/wakatsuki/.pyenv/versions/miniforge3-4.10.3-10/lib/python3.9/site-packages/cudf/__init__.py?line=4'>5</a>\u001b[0m validate_setup()\n\u001b[1;32m      <a href='file:///home/wakatsuki/.pyenv/versions/miniforge3-4.10.3-10/lib/python3.9/site-packages/cudf/__init__.py?line=6'>7</a>\u001b[0m \u001b[39mimport\u001b[39;00m \u001b[39mcupy\u001b[39;00m\n\u001b[1;32m      <a href='file:///home/wakatsuki/.pyenv/versions/miniforge3-4.10.3-10/lib/python3.9/site-packages/cudf/__init__.py?line=7'>8</a>\u001b[0m \u001b[39mfrom\u001b[39;00m \u001b[39mnumba\u001b[39;00m \u001b[39mimport\u001b[39;00m config \u001b[39mas\u001b[39;00m numba_config, cuda\n",
      "File \u001b[0;32m~/.pyenv/versions/miniforge3-4.10.3-10/lib/python3.9/site-packages/cudf/utils/gpu_utils.py:55\u001b[0m, in \u001b[0;36mvalidate_setup\u001b[0;34m()\u001b[0m\n\u001b[1;32m     <a href='file:///home/wakatsuki/.pyenv/versions/miniforge3-4.10.3-10/lib/python3.9/site-packages/cudf/utils/gpu_utils.py?line=52'>53</a>\u001b[0m \u001b[39mexcept\u001b[39;00m CUDARuntimeError \u001b[39mas\u001b[39;00m e:\n\u001b[1;32m     <a href='file:///home/wakatsuki/.pyenv/versions/miniforge3-4.10.3-10/lib/python3.9/site-packages/cudf/utils/gpu_utils.py?line=53'>54</a>\u001b[0m     \u001b[39mif\u001b[39;00m e\u001b[39m.\u001b[39mstatus \u001b[39min\u001b[39;00m notify_caller_errors:\n\u001b[0;32m---> <a href='file:///home/wakatsuki/.pyenv/versions/miniforge3-4.10.3-10/lib/python3.9/site-packages/cudf/utils/gpu_utils.py?line=54'>55</a>\u001b[0m         \u001b[39mraise\u001b[39;00m e\n\u001b[1;32m     <a href='file:///home/wakatsuki/.pyenv/versions/miniforge3-4.10.3-10/lib/python3.9/site-packages/cudf/utils/gpu_utils.py?line=55'>56</a>\u001b[0m     \u001b[39m# If there is no GPU detected, set `gpus_count` to -1\u001b[39;00m\n\u001b[1;32m     <a href='file:///home/wakatsuki/.pyenv/versions/miniforge3-4.10.3-10/lib/python3.9/site-packages/cudf/utils/gpu_utils.py?line=56'>57</a>\u001b[0m     gpus_count \u001b[39m=\u001b[39m \u001b[39m-\u001b[39m\u001b[39m1\u001b[39m\n",
      "File \u001b[0;32m~/.pyenv/versions/miniforge3-4.10.3-10/lib/python3.9/site-packages/cudf/utils/gpu_utils.py:52\u001b[0m, in \u001b[0;36mvalidate_setup\u001b[0;34m()\u001b[0m\n\u001b[1;32m     <a href='file:///home/wakatsuki/.pyenv/versions/miniforge3-4.10.3-10/lib/python3.9/site-packages/cudf/utils/gpu_utils.py?line=30'>31</a>\u001b[0m notify_caller_errors \u001b[39m=\u001b[39m {\n\u001b[1;32m     <a href='file:///home/wakatsuki/.pyenv/versions/miniforge3-4.10.3-10/lib/python3.9/site-packages/cudf/utils/gpu_utils.py?line=31'>32</a>\u001b[0m     cudaError_t\u001b[39m.\u001b[39mcudaErrorInitializationError,\n\u001b[1;32m     <a href='file:///home/wakatsuki/.pyenv/versions/miniforge3-4.10.3-10/lib/python3.9/site-packages/cudf/utils/gpu_utils.py?line=32'>33</a>\u001b[0m     cudaError_t\u001b[39m.\u001b[39mcudaErrorInsufficientDriver,\n\u001b[0;32m   (...)\u001b[0m\n\u001b[1;32m     <a href='file:///home/wakatsuki/.pyenv/versions/miniforge3-4.10.3-10/lib/python3.9/site-packages/cudf/utils/gpu_utils.py?line=47'>48</a>\u001b[0m     cudaError_t\u001b[39m.\u001b[39mcudaErrorApiFailureBase,\n\u001b[1;32m     <a href='file:///home/wakatsuki/.pyenv/versions/miniforge3-4.10.3-10/lib/python3.9/site-packages/cudf/utils/gpu_utils.py?line=48'>49</a>\u001b[0m }\n\u001b[1;32m     <a href='file:///home/wakatsuki/.pyenv/versions/miniforge3-4.10.3-10/lib/python3.9/site-packages/cudf/utils/gpu_utils.py?line=50'>51</a>\u001b[0m \u001b[39mtry\u001b[39;00m:\n\u001b[0;32m---> <a href='file:///home/wakatsuki/.pyenv/versions/miniforge3-4.10.3-10/lib/python3.9/site-packages/cudf/utils/gpu_utils.py?line=51'>52</a>\u001b[0m     gpus_count \u001b[39m=\u001b[39m getDeviceCount()\n\u001b[1;32m     <a href='file:///home/wakatsuki/.pyenv/versions/miniforge3-4.10.3-10/lib/python3.9/site-packages/cudf/utils/gpu_utils.py?line=52'>53</a>\u001b[0m \u001b[39mexcept\u001b[39;00m CUDARuntimeError \u001b[39mas\u001b[39;00m e:\n\u001b[1;32m     <a href='file:///home/wakatsuki/.pyenv/versions/miniforge3-4.10.3-10/lib/python3.9/site-packages/cudf/utils/gpu_utils.py?line=53'>54</a>\u001b[0m     \u001b[39mif\u001b[39;00m e\u001b[39m.\u001b[39mstatus \u001b[39min\u001b[39;00m notify_caller_errors:\n",
      "File \u001b[0;32m~/.pyenv/versions/miniforge3-4.10.3-10/lib/python3.9/site-packages/rmm/_cuda/gpu.py:101\u001b[0m, in \u001b[0;36mgetDeviceCount\u001b[0;34m()\u001b[0m\n\u001b[1;32m     <a href='file:///home/wakatsuki/.pyenv/versions/miniforge3-4.10.3-10/lib/python3.9/site-packages/rmm/_cuda/gpu.py?line=98'>99</a>\u001b[0m status, count \u001b[39m=\u001b[39m cudart\u001b[39m.\u001b[39mcudaGetDeviceCount()\n\u001b[1;32m    <a href='file:///home/wakatsuki/.pyenv/versions/miniforge3-4.10.3-10/lib/python3.9/site-packages/rmm/_cuda/gpu.py?line=99'>100</a>\u001b[0m \u001b[39mif\u001b[39;00m status \u001b[39m!=\u001b[39m cudart\u001b[39m.\u001b[39mcudaError_t\u001b[39m.\u001b[39mcudaSuccess:\n\u001b[0;32m--> <a href='file:///home/wakatsuki/.pyenv/versions/miniforge3-4.10.3-10/lib/python3.9/site-packages/rmm/_cuda/gpu.py?line=100'>101</a>\u001b[0m     \u001b[39mraise\u001b[39;00m CUDARuntimeError(status)\n\u001b[1;32m    <a href='file:///home/wakatsuki/.pyenv/versions/miniforge3-4.10.3-10/lib/python3.9/site-packages/rmm/_cuda/gpu.py?line=101'>102</a>\u001b[0m \u001b[39mreturn\u001b[39;00m count\n",
      "\u001b[0;31mCUDARuntimeError\u001b[0m: cudaErrorUnknown: unknown error"
     ]
    }
   ],
   "source": [
    "skf = StratifiedKFold(n_splits=3, random_state=42, shuffle=True)\n",
    "X, y = train.drop('rating', axis=1), train['rating']\n",
    "\n",
    "validations = []\n",
    "\n",
    "cat_features = ['city_idx', 'province_idx', 'country_idx', 'title_idx', 'author_idx', 'publisher_idx']\n",
    "\n",
    "for fold_idx, (train_index, test_index) in enumerate(skf.split(X, y)):\n",
    "    X_train, X_test = X.iloc[train_index], X.iloc[test_index]\n",
    "    y_train, y_test = y.iloc[train_index], y.iloc[test_index]\n",
    "\n",
    "    dtrain = xgb.DMatrix(X_train, label=y_train)\n",
    "    dtest = xgb.DMatrix(X_test, label=y_test)\n",
    "\n",
    "    xgb_params = {\n",
    "        'objective': 'multi:softmax',\n",
    "        'num_class': 10,\n",
    "        'eval_metric': 'mlogloss',\n",
    "    }\n",
    "    evals = [(dtrain, 'train'), (dtest, 'eval')]\n",
    "    evals_result = {}\n",
    "\n",
    "    model = xgb.train(xgb_params,\n",
    "        dtrain,\n",
    "        num_boost_round=1,\n",
    "        early_stopping_rounds=20,\n",
    "        evals=evals,\n",
    "        evals_result=evals_result,\n",
    "    )\n",
    "    y_pred = model.predict_proba(dtest)\n",
    "\n",
    "    y_pred_idx = y_pred.argmax(axis=1)\n",
    "    score = f1_score(y_test, y_pred_idx, average='micro')\n",
    "    print(score)\n",
    "\n",
    "    validations.append(pd.concat([\n",
    "        pd.DataFrame({\n",
    "            'rating': y_test.values,\n",
    "        }),\n",
    "        pd.DataFrame(y_pred, columns=[f'class{i}' for i in range(10)])\n",
    "    ], axis=1))\n",
    "pd.concat(validations).to_csv(\"output/xgboost_valid.csv\", index=False)\n"
   ]
  },
  {
   "cell_type": "code",
   "execution_count": 43,
   "metadata": {},
   "outputs": [
    {
     "name": "stdout",
     "output_type": "stream",
     "text": [
      "0:\tlearn: 2.0204989\ttotal: 243ms\tremaining: 17.5s\n",
      "1:\tlearn: 1.8991168\ttotal: 477ms\tremaining: 16.9s\n",
      "2:\tlearn: 1.8498923\ttotal: 683ms\tremaining: 15.9s\n",
      "3:\tlearn: 1.8197105\ttotal: 900ms\tremaining: 15.5s\n",
      "4:\tlearn: 1.8062857\ttotal: 1.08s\tremaining: 14.7s\n",
      "5:\tlearn: 1.7986047\ttotal: 1.27s\tremaining: 14.2s\n",
      "6:\tlearn: 1.7936274\ttotal: 1.46s\tremaining: 13.8s\n",
      "7:\tlearn: 1.7910994\ttotal: 1.67s\tremaining: 13.6s\n",
      "8:\tlearn: 1.7886305\ttotal: 1.86s\tremaining: 13.2s\n",
      "9:\tlearn: 1.7862501\ttotal: 2.05s\tremaining: 12.9s\n",
      "10:\tlearn: 1.7842038\ttotal: 2.24s\tremaining: 12.6s\n",
      "11:\tlearn: 1.7829434\ttotal: 2.44s\tremaining: 12.4s\n",
      "12:\tlearn: 1.7806936\ttotal: 2.64s\tremaining: 12.2s\n",
      "13:\tlearn: 1.7792523\ttotal: 2.81s\tremaining: 11.9s\n",
      "14:\tlearn: 1.7777990\ttotal: 3s\tremaining: 11.6s\n",
      "15:\tlearn: 1.7768612\ttotal: 3.18s\tremaining: 11.3s\n",
      "16:\tlearn: 1.7759711\ttotal: 3.37s\tremaining: 11.1s\n",
      "17:\tlearn: 1.7750725\ttotal: 3.56s\tremaining: 10.9s\n",
      "18:\tlearn: 1.7741600\ttotal: 3.74s\tremaining: 10.6s\n",
      "19:\tlearn: 1.7732871\ttotal: 3.92s\tremaining: 10.4s\n",
      "20:\tlearn: 1.7726104\ttotal: 4.1s\tremaining: 10.2s\n",
      "21:\tlearn: 1.7718545\ttotal: 4.3s\tremaining: 9.97s\n",
      "22:\tlearn: 1.7708836\ttotal: 4.49s\tremaining: 9.77s\n",
      "23:\tlearn: 1.7702956\ttotal: 4.68s\tremaining: 9.56s\n",
      "24:\tlearn: 1.7694244\ttotal: 4.88s\tremaining: 9.37s\n",
      "25:\tlearn: 1.7677139\ttotal: 5.07s\tremaining: 9.16s\n",
      "26:\tlearn: 1.7667439\ttotal: 5.27s\tremaining: 8.97s\n",
      "27:\tlearn: 1.7660582\ttotal: 5.46s\tremaining: 8.77s\n",
      "28:\tlearn: 1.7651970\ttotal: 5.63s\tremaining: 8.55s\n",
      "29:\tlearn: 1.7634307\ttotal: 5.82s\tremaining: 8.35s\n",
      "30:\tlearn: 1.7621094\ttotal: 6.04s\tremaining: 8.18s\n",
      "31:\tlearn: 1.7605035\ttotal: 6.23s\tremaining: 7.99s\n",
      "32:\tlearn: 1.7587193\ttotal: 6.42s\tremaining: 7.78s\n",
      "33:\tlearn: 1.7577017\ttotal: 6.63s\tremaining: 7.6s\n",
      "34:\tlearn: 1.7565463\ttotal: 6.8s\tremaining: 7.38s\n",
      "35:\tlearn: 1.7560430\ttotal: 6.98s\tremaining: 7.18s\n",
      "36:\tlearn: 1.7553142\ttotal: 7.17s\tremaining: 6.97s\n",
      "37:\tlearn: 1.7549959\ttotal: 7.35s\tremaining: 6.77s\n",
      "38:\tlearn: 1.7544374\ttotal: 7.54s\tremaining: 6.58s\n",
      "39:\tlearn: 1.7539653\ttotal: 7.72s\tremaining: 6.37s\n",
      "40:\tlearn: 1.7533584\ttotal: 7.92s\tremaining: 6.18s\n",
      "41:\tlearn: 1.7525426\ttotal: 8.12s\tremaining: 6s\n",
      "42:\tlearn: 1.7519362\ttotal: 8.31s\tremaining: 5.8s\n",
      "43:\tlearn: 1.7513760\ttotal: 8.49s\tremaining: 5.59s\n",
      "44:\tlearn: 1.7509014\ttotal: 8.68s\tremaining: 5.4s\n",
      "45:\tlearn: 1.7500085\ttotal: 8.87s\tremaining: 5.21s\n",
      "46:\tlearn: 1.7492725\ttotal: 9.05s\tremaining: 5.01s\n",
      "47:\tlearn: 1.7488270\ttotal: 9.25s\tremaining: 4.82s\n",
      "48:\tlearn: 1.7482222\ttotal: 9.45s\tremaining: 4.63s\n",
      "49:\tlearn: 1.7476188\ttotal: 9.64s\tremaining: 4.44s\n",
      "50:\tlearn: 1.7468246\ttotal: 9.84s\tremaining: 4.25s\n",
      "51:\tlearn: 1.7464715\ttotal: 10.1s\tremaining: 4.06s\n",
      "52:\tlearn: 1.7460632\ttotal: 10.3s\tremaining: 3.87s\n",
      "53:\tlearn: 1.7455804\ttotal: 10.4s\tremaining: 3.67s\n",
      "54:\tlearn: 1.7451303\ttotal: 10.7s\tremaining: 3.48s\n",
      "55:\tlearn: 1.7445834\ttotal: 10.8s\tremaining: 3.29s\n",
      "56:\tlearn: 1.7441712\ttotal: 11s\tremaining: 3.1s\n",
      "57:\tlearn: 1.7432979\ttotal: 11.2s\tremaining: 2.9s\n",
      "58:\tlearn: 1.7429549\ttotal: 11.4s\tremaining: 2.71s\n",
      "59:\tlearn: 1.7422594\ttotal: 11.6s\tremaining: 2.52s\n",
      "60:\tlearn: 1.7420225\ttotal: 11.8s\tremaining: 2.32s\n",
      "61:\tlearn: 1.7415241\ttotal: 12s\tremaining: 2.13s\n",
      "62:\tlearn: 1.7410339\ttotal: 12.2s\tremaining: 1.93s\n",
      "63:\tlearn: 1.7404025\ttotal: 12.4s\tremaining: 1.74s\n",
      "64:\tlearn: 1.7400520\ttotal: 12.6s\tremaining: 1.55s\n",
      "65:\tlearn: 1.7398435\ttotal: 12.8s\tremaining: 1.35s\n",
      "66:\tlearn: 1.7392434\ttotal: 13s\tremaining: 1.16s\n",
      "67:\tlearn: 1.7387125\ttotal: 13.2s\tremaining: 967ms\n",
      "68:\tlearn: 1.7383799\ttotal: 13.3s\tremaining: 773ms\n",
      "69:\tlearn: 1.7380779\ttotal: 13.5s\tremaining: 580ms\n",
      "70:\tlearn: 1.7377661\ttotal: 13.7s\tremaining: 387ms\n",
      "71:\tlearn: 1.7374236\ttotal: 13.9s\tremaining: 193ms\n",
      "72:\tlearn: 1.7369520\ttotal: 14.1s\tremaining: 0us\n"
     ]
    }
   ],
   "source": [
    "test_ratings = pd.read_csv('input/transformed/test_ratings.csv', usecols=['id', 'user_idx', 'book_idx'])\n",
    "test = test_ratings.merge(users, on=['user_idx']).merge(books, on=['book_idx'])\n",
    "X_test = test.drop('id', axis=1)\n",
    "\n",
    "\n",
    "\n",
    "dtrain = xgb.DMatrix(X, label=y)\n",
    "dtest = xgb.DMatrix(X_test)\n",
    "\n",
    "\n",
    "model = xgb.train(xgb_params,\n",
    "    dtrain,\n",
    "    num_boost_round=model.best_iteration,\n",
    ")\n",
    "y_pred = model.predict_proba(dtest)\n",
    "\n",
    "\n",
    "y_pred_idx = y_pred.argmax(axis=1)\n",
    "\n",
    "pred = pd.concat([test[['id']], pd.DataFrame(y_pred, columns=[f'class{i}' for i in range(10)])], axis=1)\n",
    "pred['rating'] = y_pred_idx + 1"
   ]
  },
  {
   "cell_type": "code",
   "execution_count": 44,
   "metadata": {},
   "outputs": [],
   "source": [
    "assert pred['rating'].min() == 1 and pred['rating'].max() == 10\n",
    "pred.to_csv('output/xgboost.csv', index=False)\n",
    "pred[['id', 'rating']].to_csv('output/xgboost_submission.csv', index=False)"
   ]
  },
  {
   "cell_type": "code",
   "execution_count": null,
   "metadata": {},
   "outputs": [],
   "source": []
  }
 ],
 "metadata": {
  "interpreter": {
   "hash": "c89b5301ada1d96cd3523f144e4a3cd3ad36f6698a61e6b8277fb627756a86c6"
  },
  "kernelspec": {
   "display_name": "Python 3.9.10 64-bit ('3.9.10')",
   "language": "python",
   "name": "python3"
  },
  "language_info": {
   "codemirror_mode": {
    "name": "ipython",
    "version": 3
   },
   "file_extension": ".py",
   "mimetype": "text/x-python",
   "name": "python",
   "nbconvert_exporter": "python",
   "pygments_lexer": "ipython3",
   "version": "3.9.12"
  },
  "orig_nbformat": 4
 },
 "nbformat": 4,
 "nbformat_minor": 2
}
