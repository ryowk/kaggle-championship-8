{
 "cells": [
  {
   "cell_type": "code",
   "execution_count": null,
   "metadata": {},
   "outputs": [],
   "source": [
    "import numpy as np\n",
    "import pandas as pd\n",
    "from catboost import Pool, CatBoostClassifier\n",
    "from sklearn.metrics import f1_score\n",
    "from sklearn.model_selection import StratifiedKFold"
   ]
  },
  {
   "cell_type": "code",
   "execution_count": null,
   "metadata": {},
   "outputs": [],
   "source": [
    "books = pd.read_csv('input/transformed/books.csv', usecols=['book_idx', 'title_idx', 'author_idx', 'publisher_idx'])\n",
    "users = pd.read_csv('input/transformed/users.csv', usecols=['user_idx', 'age', 'city_idx', 'province_idx', 'country_idx'])\n",
    "train_ratings = pd.read_csv('input/transformed/train_ratings.csv', usecols=['id', 'user_idx', 'book_idx', 'rating'])\n",
    "test_ratings = pd.read_csv('input/transformed/test_ratings.csv', usecols=['id', 'user_idx', 'book_idx'])"
   ]
  },
  {
   "cell_type": "code",
   "execution_count": null,
   "metadata": {},
   "outputs": [],
   "source": [
    "for c in ['city_idx', 'province_idx', 'country_idx']:\n",
    "    users[c] = users[c].fillna(-1).astype(int)\n",
    "for c in ['author_idx', 'publisher_idx']:\n",
    "    books[c] = books[c].fillna(-1).astype(int)"
   ]
  },
  {
   "cell_type": "code",
   "execution_count": null,
   "metadata": {},
   "outputs": [],
   "source": [
    "train = train_ratings.merge(users, on=['user_idx']).merge(books, on=['book_idx']).sort_values(by='id').drop('id', axis=1)\n",
    "train['rating'] -= 1"
   ]
  },
  {
   "cell_type": "code",
   "execution_count": null,
   "metadata": {},
   "outputs": [],
   "source": [
    "skf = StratifiedKFold(n_splits=3, random_state=42, shuffle=True)\n",
    "X, y = train.drop('rating', axis=1), train['rating']\n",
    "\n",
    "validations = []\n",
    "\n",
    "cat_features = ['city_idx', 'province_idx', 'country_idx', 'title_idx', 'author_idx', 'publisher_idx']\n",
    "\n",
    "for fold_idx, (train_index, test_index) in enumerate(skf.split(X, y)):\n",
    "    X_train, X_test = X.iloc[train_index], X.iloc[test_index]\n",
    "    y_train, y_test = y.iloc[train_index], y.iloc[test_index]\n",
    "\n",
    "    train_dataset = Pool(data=X_train, label=y_train, cat_features=cat_features)\n",
    "    eval_dataset = Pool(data=X_test, label=y_test, cat_features=cat_features)\n",
    "\n",
    "    params = {\n",
    "        \"iterations\": 1000,\n",
    "        \"learning_rate\": 0.05,\n",
    "        \"loss_function\": 'MultiClass',\n",
    "    }\n",
    "    model = CatBoostClassifier(**params)\n",
    "    model.fit(train_dataset, eval_set=eval_dataset, use_best_model=True)\n",
    "    y_pred = model.predict_proba(eval_dataset)\n",
    "\n",
    "    y_pred_idx = y_pred.argmax(axis=1)\n",
    "    score = f1_score(y_test, y_pred_idx, average='micro')\n",
    "    print(score)\n",
    "\n",
    "    validations.append(pd.concat([\n",
    "        pd.DataFrame({\n",
    "            'rating': y_test.values,\n",
    "        }),\n",
    "        pd.DataFrame(y_pred, columns=[f'class{i}' for i in range(10)])\n",
    "    ], axis=1))\n",
    "pd.concat(validations).to_csv(\"output/catboost_valid.csv\", index=False)\n"
   ]
  },
  {
   "cell_type": "code",
   "execution_count": null,
   "metadata": {},
   "outputs": [],
   "source": [
    "test_ratings = pd.read_csv('input/transformed/test_ratings.csv', usecols=['id', 'user_idx', 'book_idx'])\n",
    "test = test_ratings.merge(users, on=['user_idx']).merge(books, on=['book_idx'])\n",
    "X_test = test.drop('id', axis=1)\n",
    "\n",
    "train_dataset = Pool(data=X, label=y, cat_features=cat_features)\n",
    "test_dataset = Pool(data=X_test, cat_features=cat_features)\n",
    "\n",
    "params['iterations'] = model.get_best_iteration()\n",
    "params['use_best_model'] = False\n",
    "model = CatBoostClassifier(**params)\n",
    "\n",
    "model.fit(train_dataset)\n",
    "y_pred = model.predict_proba(test_dataset)\n",
    "y_pred_idx = y_pred.argmax(axis=1)\n",
    "\n",
    "pred = pd.concat([test[['id']], pd.DataFrame(y_pred, columns=[f'class{i}' for i in range(10)])], axis=1)\n",
    "pred['rating'] = y_pred_idx + 1"
   ]
  },
  {
   "cell_type": "code",
   "execution_count": null,
   "metadata": {},
   "outputs": [],
   "source": [
    "assert pred['rating'].min() == 1 and pred['rating'].max() == 10\n",
    "pred.to_csv('output/catboost.csv', index=False)\n",
    "pred[['id', 'rating']].to_csv('output/catboost_submission.csv', index=False)"
   ]
  },
  {
   "cell_type": "code",
   "execution_count": null,
   "metadata": {},
   "outputs": [],
   "source": []
  }
 ],
 "metadata": {
  "interpreter": {
   "hash": "c89b5301ada1d96cd3523f144e4a3cd3ad36f6698a61e6b8277fb627756a86c6"
  },
  "kernelspec": {
   "display_name": "Python 3.9.10 64-bit ('3.9.10')",
   "language": "python",
   "name": "python3"
  },
  "language_info": {
   "codemirror_mode": {
    "name": "ipython",
    "version": 3
   },
   "file_extension": ".py",
   "mimetype": "text/x-python",
   "name": "python",
   "nbconvert_exporter": "python",
   "pygments_lexer": "ipython3",
   "version": "3.9.12"
  },
  "orig_nbformat": 4
 },
 "nbformat": 4,
 "nbformat_minor": 2
}
