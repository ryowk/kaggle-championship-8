{
 "cells": [
  {
   "cell_type": "code",
   "execution_count": 33,
   "metadata": {},
   "outputs": [],
   "source": [
    "import numpy as np\n",
    "import pandas as pd\n",
    "from catboost import Pool, CatBoostClassifier\n",
    "from sklearn.metrics import f1_score\n",
    "from sklearn.model_selection import StratifiedKFold"
   ]
  },
  {
   "cell_type": "code",
   "execution_count": 26,
   "metadata": {},
   "outputs": [],
   "source": [
    "books = pd.read_csv('input/transformed/books.csv', usecols=['book_idx', 'title_idx', 'author_idx', 'publisher_idx'])\n",
    "users = pd.read_csv('input/transformed/users.csv', usecols=['user_idx', 'age', 'city_idx', 'province_idx', 'country_idx'])\n",
    "train_ratings = pd.read_csv('input/transformed/train_ratings.csv', usecols=['id', 'user_idx', 'book_idx', 'rating'])\n",
    "test_ratings = pd.read_csv('input/transformed/test_ratings.csv', usecols=['id', 'user_idx', 'book_idx'])"
   ]
  },
  {
   "cell_type": "code",
   "execution_count": 27,
   "metadata": {},
   "outputs": [],
   "source": [
    "for c in ['city_idx', 'province_idx', 'country_idx']:\n",
    "    users[c] = users[c].fillna(-1).astype(int)\n",
    "for c in ['author_idx', 'publisher_idx']:\n",
    "    books[c] = books[c].fillna(-1).astype(int)"
   ]
  },
  {
   "cell_type": "code",
   "execution_count": 28,
   "metadata": {},
   "outputs": [],
   "source": [
    "train = train_ratings.merge(users, on=['user_idx']).merge(books, on=['book_idx']).sort_values(by='id').drop('id', axis=1)\n",
    "train['rating'] -= 1"
   ]
  },
  {
   "cell_type": "code",
   "execution_count": 35,
   "metadata": {},
   "outputs": [
    {
     "name": "stdout",
     "output_type": "stream",
     "text": [
      "0:\tlearn: 2.0305687\ttest: 2.0300892\tbest: 2.0300892 (0)\ttotal: 130ms\tremaining: 1.17s\n",
      "1:\tlearn: 1.9102704\ttest: 1.9046784\tbest: 1.9046784 (1)\ttotal: 267ms\tremaining: 1.07s\n",
      "2:\tlearn: 1.8662993\ttest: 1.8589518\tbest: 1.8589518 (2)\ttotal: 339ms\tremaining: 791ms\n",
      "3:\tlearn: 1.8393925\ttest: 1.8319446\tbest: 1.8319446 (3)\ttotal: 455ms\tremaining: 683ms\n",
      "4:\tlearn: 1.8208145\ttest: 1.8119979\tbest: 1.8119979 (4)\ttotal: 575ms\tremaining: 575ms\n",
      "5:\tlearn: 1.8117012\ttest: 1.8020406\tbest: 1.8020406 (5)\ttotal: 678ms\tremaining: 452ms\n",
      "6:\tlearn: 1.8062150\ttest: 1.7966439\tbest: 1.7966439 (6)\ttotal: 778ms\tremaining: 333ms\n",
      "7:\tlearn: 1.7999680\ttest: 1.7914735\tbest: 1.7914735 (7)\ttotal: 909ms\tremaining: 227ms\n",
      "8:\tlearn: 1.7967003\ttest: 1.7886678\tbest: 1.7886678 (8)\ttotal: 1.01s\tremaining: 113ms\n",
      "9:\tlearn: 1.7940248\ttest: 1.7858889\tbest: 1.7858889 (9)\ttotal: 1.12s\tremaining: 0us\n",
      "\n",
      "bestTest = 1.785888876\n",
      "bestIteration = 9\n",
      "\n",
      "0.3036972889754877\n",
      "0:\tlearn: 2.0292283\ttest: 2.0273281\tbest: 2.0273281 (0)\ttotal: 138ms\tremaining: 1.24s\n",
      "1:\tlearn: 1.9112503\ttest: 1.9038691\tbest: 1.9038691 (1)\ttotal: 288ms\tremaining: 1.15s\n",
      "2:\tlearn: 1.8677586\ttest: 1.8590722\tbest: 1.8590722 (2)\ttotal: 367ms\tremaining: 856ms\n",
      "3:\tlearn: 1.8358859\ttest: 1.8240453\tbest: 1.8240453 (3)\ttotal: 491ms\tremaining: 737ms\n",
      "4:\tlearn: 1.8202336\ttest: 1.8071672\tbest: 1.8071672 (4)\ttotal: 611ms\tremaining: 611ms\n",
      "5:\tlearn: 1.8128604\ttest: 1.7996689\tbest: 1.7996689 (5)\ttotal: 745ms\tremaining: 497ms\n",
      "6:\tlearn: 1.8076042\ttest: 1.7940522\tbest: 1.7940522 (6)\ttotal: 849ms\tremaining: 364ms\n",
      "7:\tlearn: 1.8035472\ttest: 1.7901157\tbest: 1.7901157 (7)\ttotal: 954ms\tremaining: 238ms\n",
      "8:\tlearn: 1.8001396\ttest: 1.7871842\tbest: 1.7871842 (8)\ttotal: 1.06s\tremaining: 118ms\n",
      "9:\tlearn: 1.7975876\ttest: 1.7854623\tbest: 1.7854623 (9)\ttotal: 1.17s\tremaining: 0us\n",
      "\n",
      "bestTest = 1.785462276\n",
      "bestIteration = 9\n",
      "\n",
      "0.303985951745207\n",
      "0:\tlearn: 2.0300587\ttest: 2.0306988\tbest: 2.0306988 (0)\ttotal: 142ms\tremaining: 1.28s\n",
      "1:\tlearn: 1.9086387\ttest: 1.9016356\tbest: 1.9016356 (1)\ttotal: 297ms\tremaining: 1.19s\n",
      "2:\tlearn: 1.8600135\ttest: 1.8509161\tbest: 1.8509161 (2)\ttotal: 420ms\tremaining: 980ms\n",
      "3:\tlearn: 1.8353955\ttest: 1.8249688\tbest: 1.8249688 (3)\ttotal: 547ms\tremaining: 821ms\n",
      "4:\tlearn: 1.8189527\ttest: 1.8080839\tbest: 1.8080839 (4)\ttotal: 671ms\tremaining: 671ms\n",
      "5:\tlearn: 1.8108333\ttest: 1.7995833\tbest: 1.7995833 (5)\ttotal: 772ms\tremaining: 515ms\n",
      "6:\tlearn: 1.8055165\ttest: 1.7940925\tbest: 1.7940925 (6)\ttotal: 878ms\tremaining: 376ms\n",
      "7:\tlearn: 1.8022390\ttest: 1.7906560\tbest: 1.7906560 (7)\ttotal: 987ms\tremaining: 247ms\n",
      "8:\tlearn: 1.8002533\ttest: 1.7891742\tbest: 1.7891742 (8)\ttotal: 1.09s\tremaining: 122ms\n",
      "9:\tlearn: 1.7970379\ttest: 1.7861440\tbest: 1.7861440 (9)\ttotal: 1.2s\tremaining: 0us\n",
      "\n",
      "bestTest = 1.786143955\n",
      "bestIteration = 9\n",
      "\n",
      "0.3053931827475885\n"
     ]
    }
   ],
   "source": [
    "skf = StratifiedKFold(n_splits=3, random_state=42, shuffle=True)\n",
    "X, y = train.drop('rating', axis=1), train['rating']\n",
    "\n",
    "validations = []\n",
    "\n",
    "cat_features = ['city_idx', 'province_idx', 'country_idx', 'title_idx', 'author_idx', 'publisher_idx']\n",
    "\n",
    "for fold_idx, (train_index, test_index) in enumerate(skf.split(X, y)):\n",
    "    X_train, X_test = X.iloc[train_index], X.iloc[test_index]\n",
    "    y_train, y_test = y.iloc[train_index], y.iloc[test_index]\n",
    "\n",
    "    train_dataset = Pool(data=X_train, label=y_train, cat_features=cat_features)\n",
    "    eval_dataset = Pool(data=X_test, label=y_test, cat_features=cat_features)\n",
    "\n",
    "    params = {\n",
    "        \"iterations\": 100,\n",
    "        \"learning_rate\": 0.5,\n",
    "        \"loss_function\": 'MultiClass',\n",
    "    }\n",
    "    model = CatBoostClassifier(**params)\n",
    "    model.fit(train_dataset, eval_set=eval_dataset, use_best_model=True)\n",
    "    y_pred = model.predict_proba(eval_dataset)\n",
    "\n",
    "    y_pred_idx = y_pred.argmax(axis=1)\n",
    "    score = f1_score(y_test, y_pred_idx, average='micro')\n",
    "    print(score)\n",
    "\n",
    "    validations.append(pd.concat([\n",
    "        pd.DataFrame({\n",
    "            'rating': y_test.values,\n",
    "        }),\n",
    "        pd.DataFrame(y_pred, columns=[f'class{i}' for i in range(10)])\n",
    "    ], axis=1))\n",
    "pd.concat(validations).to_csv(\"output/catboost_valid.csv\", index=False)\n"
   ]
  },
  {
   "cell_type": "code",
   "execution_count": 36,
   "metadata": {},
   "outputs": [
    {
     "name": "stdout",
     "output_type": "stream",
     "text": [
      "0:\tlearn: 2.0204989\ttotal: 218ms\tremaining: 1.74s\n",
      "1:\tlearn: 1.8991168\ttotal: 437ms\tremaining: 1.53s\n",
      "2:\tlearn: 1.8498923\ttotal: 622ms\tremaining: 1.24s\n",
      "3:\tlearn: 1.8197105\ttotal: 814ms\tremaining: 1.02s\n",
      "4:\tlearn: 1.8062857\ttotal: 993ms\tremaining: 795ms\n",
      "5:\tlearn: 1.7986047\ttotal: 1.17s\tremaining: 585ms\n",
      "6:\tlearn: 1.7936274\ttotal: 1.35s\tremaining: 387ms\n",
      "7:\tlearn: 1.7910994\ttotal: 1.55s\tremaining: 194ms\n",
      "8:\tlearn: 1.7886305\ttotal: 1.73s\tremaining: 0us\n"
     ]
    }
   ],
   "source": [
    "test_ratings = pd.read_csv('input/transformed/test_ratings.csv', usecols=['id', 'user_idx', 'book_idx'])\n",
    "test = test_ratings.merge(users, on=['user_idx']).merge(books, on=['book_idx'])\n",
    "X_test = test.drop('id', axis=1)\n",
    "\n",
    "train_dataset = Pool(data=X, label=y, cat_features=cat_features)\n",
    "test_dataset = Pool(data=X_test, cat_features=cat_features)\n",
    "\n",
    "params['iterations'] = model.get_best_iteration()\n",
    "params['use_best_model'] = False\n",
    "model = CatBoostClassifier(**params)\n",
    "\n",
    "model.fit(train_dataset)\n",
    "y_pred = model.predict_proba(test_dataset)\n",
    "y_pred_idx = y_pred.argmax(axis=1)\n",
    "\n",
    "pred = pd.concat([test[['id']], pd.DataFrame(y_pred, columns=[f'class{i}' for i in range(10)])], axis=1)\n",
    "pred['rating'] = y_pred_idx + 1"
   ]
  },
  {
   "cell_type": "code",
   "execution_count": 37,
   "metadata": {},
   "outputs": [],
   "source": [
    "assert pred['rating'].min() == 1 and pred['rating'].max() == 10\n",
    "pred.to_csv('output/catboost.csv', index=False)\n",
    "pred[['id', 'rating']].to_csv('output/catboost_submission.csv', index=False)"
   ]
  },
  {
   "cell_type": "code",
   "execution_count": null,
   "metadata": {},
   "outputs": [],
   "source": []
  }
 ],
 "metadata": {
  "interpreter": {
   "hash": "c89b5301ada1d96cd3523f144e4a3cd3ad36f6698a61e6b8277fb627756a86c6"
  },
  "kernelspec": {
   "display_name": "Python 3.9.10 64-bit ('3.9.10')",
   "language": "python",
   "name": "python3"
  },
  "language_info": {
   "codemirror_mode": {
    "name": "ipython",
    "version": 3
   },
   "file_extension": ".py",
   "mimetype": "text/x-python",
   "name": "python",
   "nbconvert_exporter": "python",
   "pygments_lexer": "ipython3",
   "version": "3.9.12"
  },
  "orig_nbformat": 4
 },
 "nbformat": 4,
 "nbformat_minor": 2
}
