{
 "cells": [
  {
   "cell_type": "code",
   "execution_count": 1,
   "id": "floating-burlington",
   "metadata": {},
   "outputs": [],
   "source": [
    "%load_ext autoreload\n",
    "%autoreload 2"
   ]
  },
  {
   "cell_type": "code",
   "execution_count": 2,
   "id": "91e4e3c6-b7d2-48de-bc8d-d962b845c97b",
   "metadata": {},
   "outputs": [],
   "source": [
    "import sys\n",
    "\n",
    "sys.path.append('/work/examples')"
   ]
  },
  {
   "cell_type": "code",
   "execution_count": 3,
   "id": "d13f8eb4-e49c-430b-99ec-cec9ef229009",
   "metadata": {},
   "outputs": [],
   "source": [
    "import torch\n",
    "from bert_sentiment import *"
   ]
  },
  {
   "cell_type": "code",
   "execution_count": 4,
   "id": "a0f048cf-01fd-4594-91c2-71086ce8b1ce",
   "metadata": {},
   "outputs": [],
   "source": [
    "torch.cuda.empty_cache()"
   ]
  },
  {
   "cell_type": "code",
   "execution_count": 5,
   "id": "portuguese-kernel",
   "metadata": {},
   "outputs": [],
   "source": [
    "df_train = pd.read_csv(CFG.TRAINING_FILE).fillna(\"none\")"
   ]
  },
  {
   "cell_type": "code",
   "execution_count": 6,
   "id": "institutional-ceiling",
   "metadata": {
    "tags": []
   },
   "outputs": [],
   "source": [
    "def train_kfold(df_train: pd.DataFrame, n_splits: int = CFG.N_SPLITS):\n",
    "    oof = np.zeros(len(df_train), dtype=float)\n",
    "    kf = model_selection.StratifiedKFold(\n",
    "        n_splits=n_splits, shuffle=True, random_state=42)\n",
    "    x = np.zeros(len(df_train))\n",
    "    y = df_train['target'].values\n",
    "    train_dataset = Dataset(\n",
    "        text=df_train.text.values, target=df_train.target.values\n",
    "    )\n",
    "    for fold, (train_index, valid_index) in enumerate(kf.split(x, y)):\n",
    "        k_train_dataset = torch.utils.data.Subset(train_dataset, train_index)\n",
    "        k_train_data_loader = torch.utils.data.DataLoader(\n",
    "            k_train_dataset, batch_size=CFG.TRAIN_BATCH_SIZE, num_workers=4\n",
    "        )\n",
    "        k_valid_dataset = torch.utils.data.Subset(train_dataset, valid_index)\n",
    "        k_valid_data_loader = torch.utils.data.DataLoader(\n",
    "            k_valid_dataset, batch_size=CFG.TRAIN_BATCH_SIZE, num_workers=4\n",
    "        )\n",
    "        device = torch.device(CFG.DEVICE)\n",
    "        model = BertBase()\n",
    "        model.to(device)\n",
    "        param_optimizer = list(model.named_parameters())\n",
    "        no_decay = [\"bias\", \"LayerNorm.bias\", \"LayerNorm.weight\"]\n",
    "        optimizer_parameters = [\n",
    "            {\n",
    "                \"params\": [\n",
    "                    p for n, p in param_optimizer if not any(nd in n for nd in no_decay)\n",
    "                ],\n",
    "                \"weight_decay\": 0.001,\n",
    "            },\n",
    "            {\n",
    "                \"params\": [\n",
    "                    p for n, p in param_optimizer if any(nd in n for nd in no_decay)\n",
    "                ],\n",
    "                \"weight_decay\": 0.0,\n",
    "            },\n",
    "        ]\n",
    "\n",
    "        num_train_steps = int(\n",
    "            len(df_train) / CFG.TRAIN_BATCH_SIZE * CFG.EPOCHS)\n",
    "        optimizer = AdamW(optimizer_parameters, lr=3e-5)\n",
    "        scheduler = get_linear_schedule_with_warmup(\n",
    "            optimizer, num_warmup_steps=0, num_training_steps=num_train_steps\n",
    "        )\n",
    "        best_auc = 0\n",
    "        for epoch in range(CFG.EPOCHS):\n",
    "            outputs, targets = eval_fn(\n",
    "                k_valid_data_loader, model, device)\n",
    "            auc = metrics.roc_auc_score(y_true=targets, y_score=outputs)\n",
    "            print(f\"Fold = {fold}, Epoch = {epoch}, AUC = {auc}\")\n",
    "            train_fn(k_train_data_loader, model,\n",
    "                     optimizer, device, scheduler)\n",
    "            if auc > best_auc:\n",
    "                torch.save(model.state_dict(),\n",
    "                           f'/work/models/kb_test/model_{fold}.bin')\n",
    "                best_auc = auc\n",
    "                oof[valid_index] = outputs\n",
    "    return oof"
   ]
  },
  {
   "cell_type": "code",
   "execution_count": 7,
   "id": "warming-hostel",
   "metadata": {},
   "outputs": [
    {
     "data": {
      "application/vnd.jupyter.widget-view+json": {
       "model_id": "9a06193cea874d6e8ccfb9cbcdebe6f6",
       "version_major": 2,
       "version_minor": 0
      },
      "text/plain": [
       "  0%|          | 0/30 [00:00<?, ?it/s]"
      ]
     },
     "metadata": {},
     "output_type": "display_data"
    },
    {
     "name": "stdout",
     "output_type": "stream",
     "text": [
      "Fold = 0, Epoch = 0, AUC = 0.6053101456007665\n"
     ]
    },
    {
     "data": {
      "application/vnd.jupyter.widget-view+json": {
       "model_id": "da79c69e457743f18dca282fb4fbd41a",
       "version_major": 2,
       "version_minor": 0
      },
      "text/plain": [
       "  0%|          | 0/59 [00:00<?, ?it/s]"
      ]
     },
     "metadata": {},
     "output_type": "display_data"
    },
    {
     "data": {
      "application/vnd.jupyter.widget-view+json": {
       "model_id": "e0777f9e60f2411ab21826a339a4764d",
       "version_major": 2,
       "version_minor": 0
      },
      "text/plain": [
       "  0%|          | 0/30 [00:00<?, ?it/s]"
      ]
     },
     "metadata": {},
     "output_type": "display_data"
    },
    {
     "name": "stdout",
     "output_type": "stream",
     "text": [
      "Fold = 0, Epoch = 1, AUC = 0.9463759490179571\n"
     ]
    },
    {
     "data": {
      "application/vnd.jupyter.widget-view+json": {
       "model_id": "b3f2c49af83a4202bad1e1f6c9920250",
       "version_major": 2,
       "version_minor": 0
      },
      "text/plain": [
       "  0%|          | 0/59 [00:00<?, ?it/s]"
      ]
     },
     "metadata": {},
     "output_type": "display_data"
    },
    {
     "data": {
      "application/vnd.jupyter.widget-view+json": {
       "model_id": "cdaa120237c94c7ea69f0e6a0d8afa9d",
       "version_major": 2,
       "version_minor": 0
      },
      "text/plain": [
       "  0%|          | 0/30 [00:00<?, ?it/s]"
      ]
     },
     "metadata": {},
     "output_type": "display_data"
    },
    {
     "name": "stdout",
     "output_type": "stream",
     "text": [
      "Fold = 0, Epoch = 2, AUC = 0.9643328929986791\n"
     ]
    },
    {
     "data": {
      "application/vnd.jupyter.widget-view+json": {
       "model_id": "646ff28b124a4af68739ecec8731aca1",
       "version_major": 2,
       "version_minor": 0
      },
      "text/plain": [
       "  0%|          | 0/59 [00:00<?, ?it/s]"
      ]
     },
     "metadata": {},
     "output_type": "display_data"
    },
    {
     "data": {
      "application/vnd.jupyter.widget-view+json": {
       "model_id": "feacb74678f44f079594f12fbca75aa4",
       "version_major": 2,
       "version_minor": 0
      },
      "text/plain": [
       "  0%|          | 0/30 [00:00<?, ?it/s]"
      ]
     },
     "metadata": {},
     "output_type": "display_data"
    },
    {
     "name": "stdout",
     "output_type": "stream",
     "text": [
      "Fold = 1, Epoch = 0, AUC = 0.521774790599097\n"
     ]
    },
    {
     "data": {
      "application/vnd.jupyter.widget-view+json": {
       "model_id": "c86b181f3125472f93891a46624d0153",
       "version_major": 2,
       "version_minor": 0
      },
      "text/plain": [
       "  0%|          | 0/59 [00:00<?, ?it/s]"
      ]
     },
     "metadata": {},
     "output_type": "display_data"
    },
    {
     "data": {
      "application/vnd.jupyter.widget-view+json": {
       "model_id": "aafd8acf36e24df89f9c708a66e56485",
       "version_major": 2,
       "version_minor": 0
      },
      "text/plain": [
       "  0%|          | 0/30 [00:00<?, ?it/s]"
      ]
     },
     "metadata": {},
     "output_type": "display_data"
    },
    {
     "name": "stdout",
     "output_type": "stream",
     "text": [
      "Fold = 1, Epoch = 1, AUC = 0.9338772192140752\n"
     ]
    },
    {
     "data": {
      "application/vnd.jupyter.widget-view+json": {
       "model_id": "5ac2d116c5494a4794e169cee956faa3",
       "version_major": 2,
       "version_minor": 0
      },
      "text/plain": [
       "  0%|          | 0/59 [00:00<?, ?it/s]"
      ]
     },
     "metadata": {},
     "output_type": "display_data"
    },
    {
     "data": {
      "application/vnd.jupyter.widget-view+json": {
       "model_id": "60fbadf4f01744aeb6e4de47ee3b8baa",
       "version_major": 2,
       "version_minor": 0
      },
      "text/plain": [
       "  0%|          | 0/30 [00:00<?, ?it/s]"
      ]
     },
     "metadata": {},
     "output_type": "display_data"
    },
    {
     "name": "stdout",
     "output_type": "stream",
     "text": [
      "Fold = 1, Epoch = 2, AUC = 0.954918925196336\n"
     ]
    },
    {
     "data": {
      "application/vnd.jupyter.widget-view+json": {
       "model_id": "56e78c36210242bb87cc476445f025f8",
       "version_major": 2,
       "version_minor": 0
      },
      "text/plain": [
       "  0%|          | 0/59 [00:00<?, ?it/s]"
      ]
     },
     "metadata": {},
     "output_type": "display_data"
    },
    {
     "data": {
      "application/vnd.jupyter.widget-view+json": {
       "model_id": "a4e3f8af77de4f20875bc4b6d9605a13",
       "version_major": 2,
       "version_minor": 0
      },
      "text/plain": [
       "  0%|          | 0/30 [00:00<?, ?it/s]"
      ]
     },
     "metadata": {},
     "output_type": "display_data"
    },
    {
     "name": "stdout",
     "output_type": "stream",
     "text": [
      "Fold = 2, Epoch = 0, AUC = 0.5335702657131228\n"
     ]
    },
    {
     "data": {
      "application/vnd.jupyter.widget-view+json": {
       "model_id": "f929467094ba4371a1e1d5d5f0ce7324",
       "version_major": 2,
       "version_minor": 0
      },
      "text/plain": [
       "  0%|          | 0/59 [00:00<?, ?it/s]"
      ]
     },
     "metadata": {},
     "output_type": "display_data"
    },
    {
     "data": {
      "application/vnd.jupyter.widget-view+json": {
       "model_id": "d250c1776f18486d9039ee3da2424726",
       "version_major": 2,
       "version_minor": 0
      },
      "text/plain": [
       "  0%|          | 0/30 [00:00<?, ?it/s]"
      ]
     },
     "metadata": {},
     "output_type": "display_data"
    },
    {
     "name": "stdout",
     "output_type": "stream",
     "text": [
      "Fold = 2, Epoch = 1, AUC = 0.9609134251991395\n"
     ]
    },
    {
     "data": {
      "application/vnd.jupyter.widget-view+json": {
       "model_id": "e95e8cbdd2c449018b02557f6fa6f7d4",
       "version_major": 2,
       "version_minor": 0
      },
      "text/plain": [
       "  0%|          | 0/59 [00:00<?, ?it/s]"
      ]
     },
     "metadata": {},
     "output_type": "display_data"
    },
    {
     "data": {
      "application/vnd.jupyter.widget-view+json": {
       "model_id": "2be4a54ccfee437cb54b26e28461d3fd",
       "version_major": 2,
       "version_minor": 0
      },
      "text/plain": [
       "  0%|          | 0/30 [00:00<?, ?it/s]"
      ]
     },
     "metadata": {},
     "output_type": "display_data"
    },
    {
     "name": "stdout",
     "output_type": "stream",
     "text": [
      "Fold = 2, Epoch = 2, AUC = 0.9661026803883946\n"
     ]
    },
    {
     "data": {
      "application/vnd.jupyter.widget-view+json": {
       "model_id": "4bdbc0f5cb204f73b62aa9bdc130bbc7",
       "version_major": 2,
       "version_minor": 0
      },
      "text/plain": [
       "  0%|          | 0/59 [00:00<?, ?it/s]"
      ]
     },
     "metadata": {},
     "output_type": "display_data"
    }
   ],
   "source": [
    "oof = train_kfold(df_train)"
   ]
  },
  {
   "cell_type": "code",
   "execution_count": 8,
   "id": "random-confirmation",
   "metadata": {},
   "outputs": [
    {
     "data": {
      "text/plain": [
       "0.9563973471462459"
      ]
     },
     "execution_count": 8,
     "metadata": {},
     "output_type": "execute_result"
    }
   ],
   "source": [
    "metrics.roc_auc_score(y_true=df_train['target'].values, y_score=oof)"
   ]
  },
  {
   "cell_type": "code",
   "execution_count": 9,
   "id": "progressive-project",
   "metadata": {},
   "outputs": [],
   "source": [
    "df_test = pd.read_csv(CFG.TEST_FILE)"
   ]
  },
  {
   "cell_type": "code",
   "execution_count": 10,
   "id": "political-charm",
   "metadata": {},
   "outputs": [],
   "source": [
    "test_dataset = Dataset(\n",
    "    text=df_test.text.values, target=np.zeros(len(df_test))\n",
    ")\n",
    "test_data_loader = torch.utils.data.DataLoader(\n",
    "    test_dataset, batch_size=8, num_workers=4\n",
    ")"
   ]
  },
  {
   "cell_type": "code",
   "execution_count": 11,
   "id": "convenient-private",
   "metadata": {},
   "outputs": [],
   "source": [
    "df_test['target'] = np.zeros(len(df_test))"
   ]
  },
  {
   "cell_type": "code",
   "execution_count": 12,
   "id": "elementary-struggle",
   "metadata": {},
   "outputs": [
    {
     "data": {
      "application/vnd.jupyter.widget-view+json": {
       "model_id": "b2bac2c23d9141b581ec6e6e12b250ca",
       "version_major": 2,
       "version_minor": 0
      },
      "text/plain": [
       "  0%|          | 0/176 [00:00<?, ?it/s]"
      ]
     },
     "metadata": {},
     "output_type": "display_data"
    },
    {
     "data": {
      "application/vnd.jupyter.widget-view+json": {
       "model_id": "4f3c826b7d7d4158adea10e31f564b02",
       "version_major": 2,
       "version_minor": 0
      },
      "text/plain": [
       "  0%|          | 0/176 [00:00<?, ?it/s]"
      ]
     },
     "metadata": {},
     "output_type": "display_data"
    },
    {
     "data": {
      "application/vnd.jupyter.widget-view+json": {
       "model_id": "b1af3f031b1b4f5aabd10331737aeecf",
       "version_major": 2,
       "version_minor": 0
      },
      "text/plain": [
       "  0%|          | 0/176 [00:00<?, ?it/s]"
      ]
     },
     "metadata": {},
     "output_type": "display_data"
    }
   ],
   "source": [
    "for i in range(CFG.N_SPLITS):\n",
    "    device = torch.device(CFG.DEVICE)\n",
    "    model = BertBase()\n",
    "    model.to(device)\n",
    "    model.load_state_dict(torch.load(\n",
    "        f'/work/models/kb_test/model_{i}.bin'))\n",
    "    preds, _ = eval_fn(test_data_loader, model, device)\n",
    "    df_test['target'] = df_test['target'] + preds"
   ]
  },
  {
   "cell_type": "code",
   "execution_count": 13,
   "id": "divided-debate",
   "metadata": {},
   "outputs": [],
   "source": [
    "df_test['target'] = df_test['target'] / CFG.N_SPLITS"
   ]
  }
 ],
 "metadata": {
  "kernelspec": {
   "display_name": "Python 3 (ipykernel)",
   "language": "python",
   "name": "python3"
  },
  "language_info": {
   "codemirror_mode": {
    "name": "ipython",
    "version": 3
   },
   "file_extension": ".py",
   "mimetype": "text/x-python",
   "name": "python",
   "nbconvert_exporter": "python",
   "pygments_lexer": "ipython3",
   "version": "3.8.12"
  }
 },
 "nbformat": 4,
 "nbformat_minor": 5
}
