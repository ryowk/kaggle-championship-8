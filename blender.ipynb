{
 "cells": [
  {
   "cell_type": "code",
   "execution_count": null,
   "metadata": {},
   "outputs": [],
   "source": [
    "import numpy as np\n",
    "import pandas as pd\n",
    "from sklearn.metrics import f1_score\n",
    "import optuna"
   ]
  },
  {
   "cell_type": "code",
   "execution_count": null,
   "metadata": {},
   "outputs": [],
   "source": [
    "prefixes = ['lgbm', 'catboost']\n",
    "valids = [pd.read_csv(f\"output/{p}_valid.csv\") for p in prefixes]\n",
    "submissions = [pd.read_csv(f\"output/{p}.csv\") for p in prefixes]"
   ]
  },
  {
   "cell_type": "code",
   "execution_count": null,
   "metadata": {},
   "outputs": [],
   "source": [
    "def objective(trial: optuna.Trial):\n",
    "    p_lgbm = trial.suggest_uniform('lgbm', 0.0, 1.0)\n",
    "    p_cat = trial.suggest_uniform('cat', 0.0, 1.0)\n",
    "    y = valids[0]['rating'].values\n",
    "    a_lgbm = valids[0].drop('rating', axis=1).values\n",
    "    a_cat = valids[1].drop('rating', axis=1).values\n",
    "    a = p_lgbm * a_lgbm + p_cat * a_cat\n",
    "    b = np.argmax(a, axis=1)\n",
    "\n",
    "    return f1_score(y, b, average='micro')\n",
    "\n",
    "study = optuna.create_study(direction='maximize')\n",
    "study.optimize(objective, timeout=10)"
   ]
  },
  {
   "cell_type": "code",
   "execution_count": null,
   "metadata": {},
   "outputs": [],
   "source": [
    "study.trials_dataframe().sort_values(by='value', ascending=False).head()"
   ]
  },
  {
   "cell_type": "code",
   "execution_count": null,
   "metadata": {},
   "outputs": [],
   "source": [
    "p_lgbm = 0.677\n",
    "p_cat = 0.598\n",
    "\n",
    "a_lgbm = submissions[0].drop(['id', 'rating'], axis=1).values\n",
    "a_cat = submissions[1].drop(['id', 'rating'], axis=1).values\n",
    "a = p_lgbm * a_lgbm + p_cat * a_cat\n",
    "\n",
    "submissions['rating'] = a.argmax(axis=1) + 1\n",
    "submissions[['id', 'rating']].to_csv('blend_submission.csv', index=False)"
   ]
  }
 ],
 "metadata": {
  "interpreter": {
   "hash": "c89b5301ada1d96cd3523f144e4a3cd3ad36f6698a61e6b8277fb627756a86c6"
  },
  "kernelspec": {
   "display_name": "Python 3.9.10 64-bit ('3.9.10')",
   "language": "python",
   "name": "python3"
  },
  "language_info": {
   "codemirror_mode": {
    "name": "ipython",
    "version": 3
   },
   "file_extension": ".py",
   "mimetype": "text/x-python",
   "name": "python",
   "nbconvert_exporter": "python",
   "pygments_lexer": "ipython3",
   "version": "3.9.12"
  },
  "orig_nbformat": 4
 },
 "nbformat": 4,
 "nbformat_minor": 2
}
